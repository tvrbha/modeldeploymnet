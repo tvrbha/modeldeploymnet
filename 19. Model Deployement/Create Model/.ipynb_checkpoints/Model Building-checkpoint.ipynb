{
 "cells": [
  {
   "cell_type": "code",
   "execution_count": 115,
   "id": "d6e2bbda",
   "metadata": {},
   "outputs": [],
   "source": [
    "import pandas as pd\n",
    "import numpy as np\n",
    "from sklearn.linear_model import LinearRegression\n",
    "from sklearn.pipeline import Pipeline\n",
    "from sklearn.impute import SimpleImputer\n",
    "from sklearn.preprocessing import LabelEncoder, OrdinalEncoder, StandardScaler\n",
    "from sklearn.compose import ColumnTransformer\n",
    "\n",
    "import joblib"
   ]
  },
  {
   "cell_type": "code",
   "execution_count": 2,
   "id": "8eddc95e",
   "metadata": {},
   "outputs": [],
   "source": [
    "data = pd.read_csv(\"salary_predict_dataset.csv\")"
   ]
  },
  {
   "cell_type": "code",
   "execution_count": 3,
   "id": "4b899a12",
   "metadata": {},
   "outputs": [
    {
     "data": {
      "text/html": [
       "<div>\n",
       "<style scoped>\n",
       "    .dataframe tbody tr th:only-of-type {\n",
       "        vertical-align: middle;\n",
       "    }\n",
       "\n",
       "    .dataframe tbody tr th {\n",
       "        vertical-align: top;\n",
       "    }\n",
       "\n",
       "    .dataframe thead th {\n",
       "        text-align: right;\n",
       "    }\n",
       "</style>\n",
       "<table border=\"1\" class=\"dataframe\">\n",
       "  <thead>\n",
       "    <tr style=\"text-align: right;\">\n",
       "      <th></th>\n",
       "      <th>experience</th>\n",
       "      <th>test_score</th>\n",
       "      <th>interview_score</th>\n",
       "      <th>Salary</th>\n",
       "    </tr>\n",
       "  </thead>\n",
       "  <tbody>\n",
       "    <tr>\n",
       "      <th>0</th>\n",
       "      <td>NaN</td>\n",
       "      <td>8.0</td>\n",
       "      <td>8.0</td>\n",
       "      <td>50000</td>\n",
       "    </tr>\n",
       "    <tr>\n",
       "      <th>1</th>\n",
       "      <td>NaN</td>\n",
       "      <td>5.0</td>\n",
       "      <td>4.0</td>\n",
       "      <td>22000</td>\n",
       "    </tr>\n",
       "    <tr>\n",
       "      <th>2</th>\n",
       "      <td>three</td>\n",
       "      <td>6.0</td>\n",
       "      <td>5.0</td>\n",
       "      <td>30000</td>\n",
       "    </tr>\n",
       "    <tr>\n",
       "      <th>3</th>\n",
       "      <td>five</td>\n",
       "      <td>9.0</td>\n",
       "      <td>9.0</td>\n",
       "      <td>55000</td>\n",
       "    </tr>\n",
       "    <tr>\n",
       "      <th>4</th>\n",
       "      <td>six</td>\n",
       "      <td>3.0</td>\n",
       "      <td>5.0</td>\n",
       "      <td>13000</td>\n",
       "    </tr>\n",
       "    <tr>\n",
       "      <th>5</th>\n",
       "      <td>NaN</td>\n",
       "      <td>2.0</td>\n",
       "      <td>1.0</td>\n",
       "      <td>9000</td>\n",
       "    </tr>\n",
       "    <tr>\n",
       "      <th>6</th>\n",
       "      <td>ten</td>\n",
       "      <td>8.0</td>\n",
       "      <td>6.0</td>\n",
       "      <td>48000</td>\n",
       "    </tr>\n",
       "    <tr>\n",
       "      <th>7</th>\n",
       "      <td>one</td>\n",
       "      <td>1.0</td>\n",
       "      <td>2.0</td>\n",
       "      <td>500</td>\n",
       "    </tr>\n",
       "    <tr>\n",
       "      <th>8</th>\n",
       "      <td>fifteen</td>\n",
       "      <td>9.0</td>\n",
       "      <td>9.0</td>\n",
       "      <td>60000</td>\n",
       "    </tr>\n",
       "    <tr>\n",
       "      <th>9</th>\n",
       "      <td>thirteen</td>\n",
       "      <td>7.5</td>\n",
       "      <td>7.5</td>\n",
       "      <td>45000</td>\n",
       "    </tr>\n",
       "    <tr>\n",
       "      <th>10</th>\n",
       "      <td>ten</td>\n",
       "      <td>NaN</td>\n",
       "      <td>5.0</td>\n",
       "      <td>25000</td>\n",
       "    </tr>\n",
       "    <tr>\n",
       "      <th>11</th>\n",
       "      <td>NaN</td>\n",
       "      <td>1.0</td>\n",
       "      <td>1.0</td>\n",
       "      <td>500</td>\n",
       "    </tr>\n",
       "    <tr>\n",
       "      <th>12</th>\n",
       "      <td>one</td>\n",
       "      <td>3.0</td>\n",
       "      <td>6.0</td>\n",
       "      <td>25000</td>\n",
       "    </tr>\n",
       "    <tr>\n",
       "      <th>13</th>\n",
       "      <td>four</td>\n",
       "      <td>5.0</td>\n",
       "      <td>4.0</td>\n",
       "      <td>36000</td>\n",
       "    </tr>\n",
       "    <tr>\n",
       "      <th>14</th>\n",
       "      <td>six</td>\n",
       "      <td>5.0</td>\n",
       "      <td>NaN</td>\n",
       "      <td>8000</td>\n",
       "    </tr>\n",
       "    <tr>\n",
       "      <th>15</th>\n",
       "      <td>eleven</td>\n",
       "      <td>9.0</td>\n",
       "      <td>8.0</td>\n",
       "      <td>55000</td>\n",
       "    </tr>\n",
       "    <tr>\n",
       "      <th>16</th>\n",
       "      <td>twelve</td>\n",
       "      <td>9.0</td>\n",
       "      <td>9.0</td>\n",
       "      <td>58000</td>\n",
       "    </tr>\n",
       "    <tr>\n",
       "      <th>17</th>\n",
       "      <td>NaN</td>\n",
       "      <td>2.0</td>\n",
       "      <td>6.0</td>\n",
       "      <td>12000</td>\n",
       "    </tr>\n",
       "    <tr>\n",
       "      <th>18</th>\n",
       "      <td>three</td>\n",
       "      <td>5.0</td>\n",
       "      <td>5.0</td>\n",
       "      <td>20000</td>\n",
       "    </tr>\n",
       "    <tr>\n",
       "      <th>19</th>\n",
       "      <td>five</td>\n",
       "      <td>6.0</td>\n",
       "      <td>7.0</td>\n",
       "      <td>35000</td>\n",
       "    </tr>\n",
       "  </tbody>\n",
       "</table>\n",
       "</div>"
      ],
      "text/plain": [
       "   experience  test_score  interview_score  Salary\n",
       "0         NaN         8.0              8.0   50000\n",
       "1         NaN         5.0              4.0   22000\n",
       "2       three         6.0              5.0   30000\n",
       "3        five         9.0              9.0   55000\n",
       "4         six         3.0              5.0   13000\n",
       "5         NaN         2.0              1.0    9000\n",
       "6         ten         8.0              6.0   48000\n",
       "7         one         1.0              2.0     500\n",
       "8     fifteen         9.0              9.0   60000\n",
       "9    thirteen         7.5              7.5   45000\n",
       "10        ten         NaN              5.0   25000\n",
       "11        NaN         1.0              1.0     500\n",
       "12        one         3.0              6.0   25000\n",
       "13       four         5.0              4.0   36000\n",
       "14        six         5.0              NaN    8000\n",
       "15     eleven         9.0              8.0   55000\n",
       "16     twelve         9.0              9.0   58000\n",
       "17        NaN         2.0              6.0   12000\n",
       "18      three         5.0              5.0   20000\n",
       "19       five         6.0              7.0   35000"
      ]
     },
     "execution_count": 3,
     "metadata": {},
     "output_type": "execute_result"
    }
   ],
   "source": [
    "data"
   ]
  },
  {
   "cell_type": "code",
   "execution_count": 4,
   "id": "f2a45df6",
   "metadata": {},
   "outputs": [
    {
     "data": {
      "text/plain": [
       "experience         5\n",
       "test_score         1\n",
       "interview_score    1\n",
       "Salary             0\n",
       "dtype: int64"
      ]
     },
     "execution_count": 4,
     "metadata": {},
     "output_type": "execute_result"
    }
   ],
   "source": [
    "data.isna().sum()"
   ]
  },
  {
   "cell_type": "code",
   "execution_count": 12,
   "id": "16681f9f",
   "metadata": {},
   "outputs": [],
   "source": [
    "pipe = Pipeline(steps=[('impute',SimpleImputer())])"
   ]
  },
  {
   "cell_type": "code",
   "execution_count": 17,
   "id": "4255fdd8",
   "metadata": {},
   "outputs": [],
   "source": [
    "X= data.drop(columns=[\"experience\",\"Salary\"])"
   ]
  },
  {
   "cell_type": "code",
   "execution_count": 18,
   "id": "d0eaf8d0",
   "metadata": {},
   "outputs": [],
   "source": [
    "y = data[\"Salary\"]"
   ]
  },
  {
   "cell_type": "code",
   "execution_count": 19,
   "id": "943bf30c",
   "metadata": {},
   "outputs": [
    {
     "data": {
      "text/plain": [
       "array([[8.        , 8.        ],\n",
       "       [5.        , 4.        ],\n",
       "       [6.        , 5.        ],\n",
       "       [9.        , 9.        ],\n",
       "       [3.        , 5.        ],\n",
       "       [2.        , 1.        ],\n",
       "       [8.        , 6.        ],\n",
       "       [1.        , 2.        ],\n",
       "       [9.        , 9.        ],\n",
       "       [7.5       , 7.5       ],\n",
       "       [5.44736842, 5.        ],\n",
       "       [1.        , 1.        ],\n",
       "       [3.        , 6.        ],\n",
       "       [5.        , 4.        ],\n",
       "       [5.        , 5.65789474],\n",
       "       [9.        , 8.        ],\n",
       "       [9.        , 9.        ],\n",
       "       [2.        , 6.        ],\n",
       "       [5.        , 5.        ],\n",
       "       [6.        , 7.        ]])"
      ]
     },
     "execution_count": 19,
     "metadata": {},
     "output_type": "execute_result"
    }
   ],
   "source": [
    "pipe.fit_transform(X)"
   ]
  },
  {
   "cell_type": "code",
   "execution_count": 41,
   "id": "d5d19409",
   "metadata": {},
   "outputs": [
    {
     "data": {
      "text/plain": [
       "array([[10.],\n",
       "       [10.],\n",
       "       [ 8.],\n",
       "       [ 2.],\n",
       "       [ 5.],\n",
       "       [10.],\n",
       "       [ 6.],\n",
       "       [ 4.],\n",
       "       [ 1.],\n",
       "       [ 7.],\n",
       "       [ 6.],\n",
       "       [10.],\n",
       "       [ 4.],\n",
       "       [ 3.],\n",
       "       [ 5.],\n",
       "       [ 0.],\n",
       "       [ 9.],\n",
       "       [10.],\n",
       "       [ 8.],\n",
       "       [ 2.]])"
      ]
     },
     "execution_count": 41,
     "metadata": {},
     "output_type": "execute_result"
    }
   ],
   "source": [
    "pipe = Pipeline(steps=[('encode',OrdinalEncoder())])\n",
    "\n",
    "X= data[[\"experience\"]]\n",
    " \n",
    "X = X.replace({np.nan:'unknown'})\n",
    "\n",
    "y = data[\"Salary\"]\n",
    "\n",
    "pipe.fit_transform(X)"
   ]
  },
  {
   "cell_type": "code",
   "execution_count": 63,
   "id": "b6bd7f2c",
   "metadata": {},
   "outputs": [],
   "source": [
    "category_col = data.select_dtypes(exclude = np.number).columns"
   ]
  },
  {
   "cell_type": "code",
   "execution_count": 64,
   "id": "4665adf9",
   "metadata": {},
   "outputs": [],
   "source": [
    "numeric_col = data.select_dtypes(include = np.number).drop(columns=\"Salary\").columns"
   ]
  },
  {
   "cell_type": "code",
   "execution_count": 65,
   "id": "6557bd97",
   "metadata": {},
   "outputs": [
    {
     "data": {
      "text/plain": [
       "Index(['experience'], dtype='object')"
      ]
     },
     "execution_count": 65,
     "metadata": {},
     "output_type": "execute_result"
    }
   ],
   "source": [
    "category_col"
   ]
  },
  {
   "cell_type": "code",
   "execution_count": 66,
   "id": "6745fa68",
   "metadata": {},
   "outputs": [
    {
     "data": {
      "text/plain": [
       "Index(['test_score', 'interview_score'], dtype='object')"
      ]
     },
     "execution_count": 66,
     "metadata": {},
     "output_type": "execute_result"
    }
   ],
   "source": [
    "numeric_col"
   ]
  },
  {
   "cell_type": "code",
   "execution_count": 67,
   "id": "7ca666d5",
   "metadata": {},
   "outputs": [],
   "source": [
    "category_pipe = Pipeline(steps=[('impute', SimpleImputer(strategy='constant',fill_value = \"unknown\")),\n",
    "                                ('encode', OrdinalEncoder())])"
   ]
  },
  {
   "cell_type": "code",
   "execution_count": 68,
   "id": "e97aa979",
   "metadata": {},
   "outputs": [],
   "source": [
    "numeric_pipe = Pipeline(steps=[('impute',SimpleImputer()),\n",
    "                               ('scale', StandardScaler())])"
   ]
  },
  {
   "cell_type": "code",
   "execution_count": 69,
   "id": "36d094e2",
   "metadata": {},
   "outputs": [],
   "source": [
    "preprocessing_pipe = ColumnTransformer([\n",
    "                    ('cat_pipe', category_pipe, category_col),\n",
    "                    ('numeric_pipe', numeric_pipe, numeric_col)\n",
    "                 ])"
   ]
  },
  {
   "cell_type": "code",
   "execution_count": 70,
   "id": "679ed98f",
   "metadata": {},
   "outputs": [],
   "source": [
    "pipe = Pipeline([\n",
    "                ('preprocess',preprocessing_pipe),\n",
    "                ('linearRegression',LinearRegression())\n",
    "                ])"
   ]
  },
  {
   "cell_type": "code",
   "execution_count": 71,
   "id": "4a75d378",
   "metadata": {},
   "outputs": [],
   "source": [
    "X = data.drop(columns=\"Salary\")"
   ]
  },
  {
   "cell_type": "code",
   "execution_count": 72,
   "id": "5e7d31c0",
   "metadata": {},
   "outputs": [],
   "source": [
    "y = data[\"Salary\"]"
   ]
  },
  {
   "cell_type": "code",
   "execution_count": 73,
   "id": "4b0481b7",
   "metadata": {},
   "outputs": [
    {
     "data": {
      "text/plain": [
       "Pipeline(steps=[('preprocess',\n",
       "                 ColumnTransformer(transformers=[('cat_pipe',\n",
       "                                                  Pipeline(steps=[('impute',\n",
       "                                                                   SimpleImputer(fill_value='unknown',\n",
       "                                                                                 strategy='constant')),\n",
       "                                                                  ('encode',\n",
       "                                                                   OrdinalEncoder())]),\n",
       "                                                  Index(['experience'], dtype='object')),\n",
       "                                                 ('numeric_pipe',\n",
       "                                                  Pipeline(steps=[('impute',\n",
       "                                                                   SimpleImputer()),\n",
       "                                                                  ('scale',\n",
       "                                                                   StandardScaler())]),\n",
       "                                                  Index(['test_score', 'interview_score'], dtype='object'))])),\n",
       "                ('linearRegression', LinearRegression())])"
      ]
     },
     "execution_count": 73,
     "metadata": {},
     "output_type": "execute_result"
    }
   ],
   "source": [
    "pipe.fit(X,y)"
   ]
  },
  {
   "cell_type": "code",
   "execution_count": 116,
   "id": "8c5de3c5",
   "metadata": {},
   "outputs": [
    {
     "data": {
      "text/plain": [
       "Pipeline(steps=[('preprocess',\n",
       "                 ColumnTransformer(transformers=[('cat_pipe',\n",
       "                                                  Pipeline(steps=[('impute',\n",
       "                                                                   SimpleImputer(fill_value='unknown',\n",
       "                                                                                 strategy='constant')),\n",
       "                                                                  ('encode',\n",
       "                                                                   OrdinalEncoder())]),\n",
       "                                                  Index(['experience'], dtype='object')),\n",
       "                                                 ('numeric_pipe',\n",
       "                                                  Pipeline(steps=[('impute',\n",
       "                                                                   SimpleImputer()),\n",
       "                                                                  ('scale',\n",
       "                                                                   StandardScaler())]),\n",
       "                                                  Index(['test_score', 'interview_score'], dtype='object'))])),\n",
       "                ('linearRegression', LinearRegression())])"
      ]
     },
     "execution_count": 116,
     "metadata": {},
     "output_type": "execute_result"
    }
   ],
   "source": [
    "pipe"
   ]
  },
  {
   "cell_type": "code",
   "execution_count": 110,
   "id": "faa15ecf",
   "metadata": {},
   "outputs": [],
   "source": [
    "test_data = pd.DataFrame([\"five\", np.nan, np.nan]).T"
   ]
  },
  {
   "cell_type": "code",
   "execution_count": 111,
   "id": "08d4e154",
   "metadata": {},
   "outputs": [],
   "source": [
    "test_data.columns = X.columns"
   ]
  },
  {
   "cell_type": "code",
   "execution_count": 112,
   "id": "dd6ade62",
   "metadata": {},
   "outputs": [
    {
     "data": {
      "text/html": [
       "<div>\n",
       "<style scoped>\n",
       "    .dataframe tbody tr th:only-of-type {\n",
       "        vertical-align: middle;\n",
       "    }\n",
       "\n",
       "    .dataframe tbody tr th {\n",
       "        vertical-align: top;\n",
       "    }\n",
       "\n",
       "    .dataframe thead th {\n",
       "        text-align: right;\n",
       "    }\n",
       "</style>\n",
       "<table border=\"1\" class=\"dataframe\">\n",
       "  <thead>\n",
       "    <tr style=\"text-align: right;\">\n",
       "      <th></th>\n",
       "      <th>experience</th>\n",
       "      <th>test_score</th>\n",
       "      <th>interview_score</th>\n",
       "    </tr>\n",
       "  </thead>\n",
       "  <tbody>\n",
       "    <tr>\n",
       "      <th>0</th>\n",
       "      <td>five</td>\n",
       "      <td>NaN</td>\n",
       "      <td>NaN</td>\n",
       "    </tr>\n",
       "  </tbody>\n",
       "</table>\n",
       "</div>"
      ],
      "text/plain": [
       "  experience test_score interview_score\n",
       "0       five        NaN             NaN"
      ]
     },
     "execution_count": 112,
     "metadata": {},
     "output_type": "execute_result"
    }
   ],
   "source": [
    "test_data"
   ]
  },
  {
   "cell_type": "code",
   "execution_count": 113,
   "id": "ef9aaf5c",
   "metadata": {},
   "outputs": [
    {
     "data": {
      "text/plain": [
       "array([31267.68686948])"
      ]
     },
     "execution_count": 113,
     "metadata": {},
     "output_type": "execute_result"
    }
   ],
   "source": [
    "pipe.predict(test_data)"
   ]
  },
  {
   "cell_type": "code",
   "execution_count": 117,
   "id": "0a9ba067",
   "metadata": {},
   "outputs": [],
   "source": [
    "#Model Dump"
   ]
  },
  {
   "cell_type": "code",
   "execution_count": 118,
   "id": "3c6e6bb0",
   "metadata": {},
   "outputs": [
    {
     "data": {
      "text/plain": [
       "['pipe.pkl']"
      ]
     },
     "execution_count": 118,
     "metadata": {},
     "output_type": "execute_result"
    }
   ],
   "source": [
    "joblib.dump(pipe, \"pipe.pkl\")"
   ]
  },
  {
   "cell_type": "code",
   "execution_count": null,
   "id": "179a6e27",
   "metadata": {},
   "outputs": [],
   "source": []
  }
 ],
 "metadata": {
  "kernelspec": {
   "display_name": "Python 3",
   "language": "python",
   "name": "python3"
  },
  "language_info": {
   "codemirror_mode": {
    "name": "ipython",
    "version": 3
   },
   "file_extension": ".py",
   "mimetype": "text/x-python",
   "name": "python",
   "nbconvert_exporter": "python",
   "pygments_lexer": "ipython3",
   "version": "3.8.8"
  }
 },
 "nbformat": 4,
 "nbformat_minor": 5
}
